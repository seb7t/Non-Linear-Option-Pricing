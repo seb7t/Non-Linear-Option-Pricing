{
  "cells": [
    {
      "cell_type": "code",
      "execution_count": null,
      "metadata": {
        "id": "Yp5T6TDgcP7_"
      },
      "outputs": [],
      "source": [
        "%matplotlib inline\n",
        "import matplotlib.pyplot as plt\n",
        "import numpy as np\n",
        "from scipy.stats import norm\n",
        "from tqdm import tqdm"
      ]
    },
    {
      "cell_type": "markdown",
      "metadata": {
        "id": "CUAD4UxJcP8B"
      },
      "source": [
        "# Dual Problem and Upper Bounds for American Options"
      ]
    },
    {
      "cell_type": "markdown",
      "metadata": {
        "id": "JcMJfvjlcP8B"
      },
      "source": [
        "<strong>Primal Problem</strong> (maximizing over stopping times)\n",
        "\n",
        "\\begin{equation*}\n",
        "V_t=\\sup_{\\tau\\in\\mathcal{T}_{t, T}}\\mathbb{E}^\\mathbb{Q}\\left[D_{t, \\tau}F_{\\tau}\\big|\\mathcal{F}_t\\right]\n",
        "\\end{equation*}\n",
        "\n",
        "<strong>Dual Problem</strong> (minimizing over martingales) [Rogers 2002; Haugh and Kogan 2004]\n",
        "\n",
        "\\begin{equation*}\n",
        "V_t=\\inf_{M\\in\\mathcal{M}_{t, 0}}\\mathbb{E}^\\mathbb{Q}\\left[\\sup_{t\\leq s\\leq T}\\left(D_{t, s}F_s-M_s\\right)\\bigg|\\mathcal{F}_t\\right].\n",
        "\\end{equation*}\n",
        "\n",
        "where $\\mathcal{M}_{t, 0}$ denotes the set of all right-continuous martingales $(M_s, s\\in[t, T])$ with $M_t=0$.\n",
        "The optimal martingale $M^{\\ast}$ is the martingale part of the Doob-Meyer decomposition of $(S_s-S_t)/D_{0, t}$, $t\\leq s\\leq T$, where $S$ is the Snell envelope of the discounted payoff, i.e., $S_t=\\sup_{\\tau\\in\\mathcal{T}_{t,T}}\\mathbb{E}^{\\mathbb{Q}}\\left[D_{0,\\tau}F_{\\tau}\\right]$.\n",
        "\n",
        "In particular, any martingale $M_s$ with $M_0=0$ gives an upper bound for the price at time 0, $V_0$:\n",
        "\n",
        "$$V_0 \\leq\\mathbb{E}^{\\mathbb{Q}}\\left[\\sup_{0\\leq s\\leq T}\\left(D_sF_s-M_s\\right)\\right].$$"
      ]
    },
    {
      "cell_type": "markdown",
      "source": [
        "## Section 1"
      ],
      "metadata": {
        "id": "IlIhspgWKP6h"
      }
    },
    {
      "cell_type": "markdown",
      "metadata": {
        "id": "fkpPadgqcP8C"
      },
      "source": [
        "Consider pricing a one-year Bermudan put option with monthly exercise, where the asset price process is assumed to follow geometric Brownian motion with $S_0=100$, $\\sigma=0.2$, $r=0.1$, $q=0.02$, $K=100$ and exercise dates $t_1=\\frac{1}{12}$, $t_2=\\frac{2}{12}$, $\\cdots$, $t_{12}=1$.\n",
        "\n",
        "Simulate 100,000 paths and use the following martingale to find a upper bound.\n",
        "\n",
        "(a). $M_t\\equiv0$.\n",
        "\n",
        "(b). $M_t$ is the discounted European put price with the same final maturity less the initial price.\n",
        "\n",
        "For the reference, the price of the option is $5.152$."
      ]
    },
    {
      "cell_type": "code",
      "execution_count": null,
      "metadata": {
        "id": "9_I93BfacP8C"
      },
      "outputs": [],
      "source": [
        "def blackscholes_mc(S=100, vol=0.2, r=0, q=0, ts=np.linspace(0, 1, 13), npaths=10):\n",
        "    \"\"\"Generate Monte-Carlo paths in Black-Scholes model.\n",
        "\n",
        "    Parameters\n",
        "    ----------\n",
        "    S: scalar\n",
        "        The spot price of the underlying security.\n",
        "    vol: scalar\n",
        "        The implied Black-Scholes volatility.\n",
        "    r: scalar\n",
        "        The annualized risk-free interest rate, continuously compounded.\n",
        "    q: scalar\n",
        "        The annualized continuous dividend yield.\n",
        "    ts: array_like\n",
        "        The time steps of the simualtion\n",
        "    npaths: int\n",
        "        the number of paths to simulate\n",
        "\n",
        "    Returns\n",
        "    -------\n",
        "    paths: ndarray\n",
        "        The Monte-Carlo paths.\n",
        "    \"\"\"\n",
        "    nsteps = len(ts) - 1\n",
        "    ts = np.asfarray(ts)[:, np.newaxis] # (nsteps+1, 1)\n",
        "    W = np.cumsum(np.vstack((np.zeros((1, npaths), dtype=float), # (1, n_paths)\n",
        "                             np.random.randn(nsteps, npaths) * np.sqrt(np.diff(ts, axis=0)))), # (nsteps, npaths) => (nsteps+1, npaths)\n",
        "                  axis=0)\n",
        "    paths = np.exp(-0.5*vol**2*ts + vol*W)*S*np.exp((r-q)*ts)\n",
        "    return paths\n",
        "\n",
        "\n",
        "def blackscholes_price(K, T, S, vol, r=0, q=0, callput='call'):\n",
        "    \"\"\"Compute the call/put option price in the Black-Scholes model\n",
        "\n",
        "    Parameters\n",
        "    ----------\n",
        "    K: scalar or array_like\n",
        "        The strike of the option.\n",
        "    T: scalar or array_like\n",
        "        The maturity of the option, expressed in years (e.g. 0.25 for 3-month and 2 for 2 years)\n",
        "    S: scalar or array_like\n",
        "        The current price of the underlying asset.\n",
        "    vol: scalar or array_like\n",
        "        The implied Black-Scholes volatility.\n",
        "    r: scalar or array_like\n",
        "        The annualized risk-free interest rate, continuously compounded.\n",
        "    q: scalar or array_like\n",
        "        The annualized continuous dividend yield.\n",
        "    callput: str\n",
        "        Must be either 'call' or 'put'.\n",
        "\n",
        "    Returns\n",
        "    -------\n",
        "    price: scalar or array_like\n",
        "        The price of the option.\n",
        "\n",
        "    Examples\n",
        "    --------\n",
        "    >>> blackscholes_price(95, 0.25, 100, 0.2, r=0.05, callput='put')\n",
        "    1.5342604771222823\n",
        "    \"\"\"\n",
        "    F = S*np.exp((r-q)*T)\n",
        "    v = np.sqrt(vol**2*T)\n",
        "    d1 = np.log(F/K)/v + 0.5*v\n",
        "    d2 = d1 - v\n",
        "    try:\n",
        "        opttype = {'call':1, 'put':-1}[callput.lower()]\n",
        "    except:\n",
        "        raise ValueError('The value of callput must be either \"call\" or \"put\".')\n",
        "    price = opttype*(F*norm.cdf(opttype*d1)-K*norm.cdf(opttype*d2))*np.exp(-r*T)\n",
        "    return price"
      ]
    },
    {
      "cell_type": "code",
      "source": [
        "# Set up the parameters and the Monte Carlo Paths\n",
        "np.random.seed(5400)\n",
        "S0, vol, r, q, K = 100, 0.2, 0.1, 0.02, 100\n",
        "ts = np.linspace(0, 1, 13)\n",
        "npaths = 100000\n",
        "paths = blackscholes_mc(S=S0, vol=vol, r=r, q=q, ts=ts, npaths=npaths)\n",
        "\n",
        "# Generate the discounted payoffs from exercise of all paths at t from 1 to T\n",
        "exer_func = lambda S: np.maximum(K-S, 0)\n",
        "DsFs = exer_func(paths[1:])*np.exp(-r*ts[1:, np.newaxis])"
      ],
      "metadata": {
        "id": "93WFWNkUJ_RT"
      },
      "execution_count": null,
      "outputs": []
    },
    {
      "cell_type": "code",
      "source": [
        "# Let the martingale be constant 0\n",
        "M = 0\n",
        "\n",
        "# For each path, get the maximal value of discounted payoff from exercise minus the martingale\n",
        "# Get the expected value of maxima of all paths\n",
        "upper_bound = np.mean(np.max(DsFs-M, axis=0))\n",
        "print('The Upper Bound using Mt = 0 is {:.4f}'.format(upper_bound))"
      ],
      "metadata": {
        "colab": {
          "base_uri": "https://localhost:8080/"
        },
        "id": "goJnkoqyJYoh",
        "outputId": "2f0a455a-4f51-4f01-a3aa-f3f139cd62b8"
      },
      "execution_count": null,
      "outputs": [
        {
          "output_type": "stream",
          "name": "stdout",
          "text": [
            "The Upper Bound using Mt = 0 is 8.6200\n"
          ]
        }
      ]
    },
    {
      "cell_type": "code",
      "source": [
        "# Get the Black-Scholes prices of all paths at t=0 to t=T-1\n",
        "bs_price = blackscholes_price(K=100, T=(ts[-1]-ts[:-1])[:, np.newaxis], S=paths[:-1], vol=vol, r=r, q=q, callput='put')\n",
        "# Discount Black-Scholes prices to values at t = 0\n",
        "bs_price = bs_price * np.exp(-r*ts[:-1, np.newaxis])\n",
        "# Get the payoffs from exercising at t = T\n",
        "final_payoff = (exer_func(paths[-1])*np.exp(-r*ts[-1])).reshape(1, -1)\n",
        "# Stack the payoffs at the end and Subtract the initial price to get the martingale\n",
        "M = np.vstack((bs_price, final_payoff)) - bs_price[0]\n",
        "\n",
        "# For each path, get the maximal value of discounted payoff from exercise minus the martingale\n",
        "# Get the expected value of maxima of all paths\n",
        "upper_bound = np.mean(np.max(DsFs-M[1:], axis=0))\n",
        "print('The Upper Bound using discounted European put price minus the initial price is {:.4f}'.format(upper_bound))"
      ],
      "metadata": {
        "colab": {
          "base_uri": "https://localhost:8080/"
        },
        "id": "b8Bp1ZSNJstN",
        "outputId": "90d7bfc5-9e17-45f3-a3f2-8cdcaa40b7f8"
      },
      "execution_count": null,
      "outputs": [
        {
          "output_type": "stream",
          "name": "stdout",
          "text": [
            "The Upper Bound using discounted European put price minus the initial price is 5.3569\n"
          ]
        }
      ]
    },
    {
      "cell_type": "markdown",
      "source": [
        "## Section 2"
      ],
      "metadata": {
        "id": "tUDVLN78KqCt"
      }
    },
    {
      "cell_type": "markdown",
      "metadata": {
        "id": "XtDyjgpWcP8D"
      },
      "source": [
        "Optimal martingale\n",
        "\n",
        "The optimal martingale that gives zero <em>duality gap</em> is the martingale component of the discounted true value process (known as Snell envelope) $\\frac{V_t}{D_{0,t}}$, following the optimal exercise strategy.\n",
        "\n",
        "To get a good upper bound, we first find a value process that is close to the true value process, and then extract its martingale component. This approximate value process can be obtained from a functional approximation such as regression, or from an exercise strategy (stopping time).\n",
        "\n",
        "In general, for a stochastic process $\\{U_n\\}_{n\\geq0}$, to extract its martingale component, we only need to let $M_0=0$, and then\n",
        "\n",
        "$$M_{n+1}-M_n=U_{n+1}-\\mathbb{E}\\left[U_{n+1}\\big|\\mathcal{F}_n\\right],\\quad n=0,1,\\cdots.$$"
      ]
    },
    {
      "cell_type": "markdown",
      "metadata": {
        "id": "YJYaklQtcP8D"
      },
      "source": [
        "As a demonstration, we show below the code that calculates the upper bound estimate of the price of Bermudan put with monthly exercises as in Section 1. The optimal exercise frontier is given for each exercise date (from a PDE solver), i.e. if the underlying price falls below Bs[i] at time ts[i], then we should exercise the option, otherwise we should continue."
      ]
    },
    {
      "cell_type": "code",
      "execution_count": null,
      "metadata": {
        "id": "sOF-uyqPcP8E"
      },
      "outputs": [],
      "source": [
        "Bs = np.array([87.5297, 87.7804, 88.0589, 88.3694, 88.724, 89.1309, 89.6067, 90.1723, 90.8653, 91.7451, 92.956, 94.8524, 100])\n",
        "\n",
        "def exer_or_cont(i, S):\n",
        "    # exer if True else cont\n",
        "    return S <= Bs[i]"
      ]
    },
    {
      "cell_type": "code",
      "execution_count": null,
      "metadata": {
        "colab": {
          "base_uri": "https://localhost:8080/"
        },
        "id": "YD2qLACPcP8E",
        "outputId": "bde6f1d0-28a4-424a-9d17-403b5e0de514"
      },
      "outputs": [
        {
          "output_type": "stream",
          "name": "stderr",
          "text": [
            "100%|██████████| 11/11 [00:05<00:00,  2.02it/s]"
          ]
        },
        {
          "output_type": "stream",
          "name": "stdout",
          "text": [
            "Primal Price (Lower Bound) = 5.1514\n",
            "Dual Price   (Upper Bound) = 5.1608\n"
          ]
        },
        {
          "output_type": "stream",
          "name": "stderr",
          "text": [
            "\n"
          ]
        }
      ],
      "source": [
        "np.random.seed(5400)\n",
        "S0, K, vol, r, q = 100, 100, 0.2, 0.1, 0.02\n",
        "ts = np.linspace(0, 1, 13)\n",
        "exer_func = lambda S: np.maximum(K-S, 0)\n",
        "\n",
        "# nested simulation from time t_i when stock price is S\n",
        "def nested_mc(S, vol, r, q, i, ts, nnested):\n",
        "    nested_paths = np.full(nnested, S, dtype=float)\n",
        "    tot_payoff = 0\n",
        "    for j in range(i+1, len(ts)):\n",
        "        dt = ts[j] - ts[j-1]\n",
        "        dW = np.random.randn(len(nested_paths))*np.sqrt(dt)        # Brownian increment\n",
        "        nested_paths = nested_paths*np.exp((r-q)*dt)*np.exp(-0.5*vol**2*dt + vol*dW)\n",
        "        exer_vals =  exer_func(nested_paths)\n",
        "        if j < len(ts)-1:\n",
        "            ind = exer_or_cont(j, nested_paths)                    # identify the paths that need exercise\n",
        "            tot_payoff += np.sum(exer_vals[ind])*np.exp(-r*ts[j])\n",
        "            nested_paths = nested_paths[~ind]                      # remove exercised paths\n",
        "            if len(nested_paths) == 0:                             # if exercised for all paths, stop\n",
        "                break\n",
        "        else:\n",
        "            tot_payoff +=  np.sum(exer_vals)*np.exp(-r*ts[j])\n",
        "    return tot_payoff/nnested                                      # taking average of paths\n",
        "\n",
        "# Simulate independent paths and exercise the option acoording to this strategy\n",
        "V0 = nested_mc(S0, vol, r, q, 0, ts, 1000000)\n",
        "\n",
        "# Upper bound by Andersen-Broadie algorithm\n",
        "npaths = 500                                                       # number of paths in the second independent run\n",
        "nnested = 1000                                                     # number of paths used in nested simulation\n",
        "paths = blackscholes_mc(S=S0, vol=vol, r=r, q=q, ts=ts, npaths=npaths)\n",
        "V = np.full(paths.shape, np.nan, dtype=float)                   # discounted value process V_i (discounted to time zero)\n",
        "EV = np.full(paths.shape, np.nan, dtype=float)                  # Conditional expectation E[V_{i+1}|F_i], or continuation value\n",
        "V[0] = V0                                                          # Initial value from lower bound simulation\n",
        "EV[0] = V0                                                         # at time 0, option value = continuation value\n",
        "for i in tqdm(range(1, len(ts)-1)):\n",
        "    exer_vals =  exer_func(paths[i])\n",
        "    ind = exer_or_cont(i, paths[i])                                # True for exercise False for continue\n",
        "    for j in np.nonzero(ind)[0]:\n",
        "        V[i, j] = exer_vals[j]*np.exp(-r*ts[i])                    # if exercised, V[i,j] = exercise value\n",
        "        EV[i,j] = nested_mc(paths[i, j], vol, r, q, i, ts, nnested) # launch nested simulation to estimate E[V_{i+1}|F_i]\n",
        "    for j in np.nonzero(~ind)[0]:\n",
        "        V[i,j] = nested_mc(paths[i, j], vol, r, q, i, ts, nnested)  # if continue, use nested simulation to estimate V[i, j]\n",
        "        EV[i, j] = V[i, j]                                         # E[V_{i+1}|F_i] = V_i\n",
        "V[-1] = exer_func(paths[-1])*np.exp(-r*ts[-1])                     # values at final maturity\n",
        "hedges = np.zeros(paths.shape, dtype=float)\n",
        "hedges[1:] = np.cumsum(V[1:]-EV[:-1], axis=0)                      # martinglae increment V_{i+1}-E[V_{i+1}|F_i]\n",
        "\n",
        "print('Primal Price (Lower Bound) = {:.4f}'.format(V0))\n",
        "print('Dual Price   (Upper Bound) = {:.4f}'.format(np.mean(np.amax(exer_func(paths[1:])*np.exp(-r*ts[1:, np.newaxis])-hedges[1:], axis=0))))"
      ]
    },
    {
      "cell_type": "markdown",
      "metadata": {
        "id": "ZPN96MsBcP8F"
      },
      "source": [
        "Since the strategy is optimal, we see that both lower bound and upper bound prices converge to the true value.\n",
        "\n",
        "However, in general, we may only get a sub-optimal strategy (e.g. from Longstaff-Schwartz algorithm). But with this sub-optimal strategy, we can build the (discounted) value process and then extract its martingale component to obtain an upper bound. Intuitively speaking, the closer this sub-optimal strategy is to the optimal one, the tighter the corresponding upper bound."
      ]
    },
    {
      "cell_type": "markdown",
      "metadata": {
        "id": "3db-tLYocP8G"
      },
      "source": [
        "Consider pricing the Bermudan put option as in Section 1 by using the constant $1.0$ and the Black-Scholes price of a European put option with volatility $0.2$ and maturity $T-t_n$ as the two basis functions at time $t_n$. Use the Longstaff-Schwartz algorithm to build an exercise strategy with these basis functions and then compute the corresponding upper bound."
      ]
    },
    {
      "cell_type": "code",
      "execution_count": null,
      "metadata": {
        "colab": {
          "base_uri": "https://localhost:8080/"
        },
        "id": "jGQlN_uOcP8G",
        "outputId": "459c380d-03e5-4613-cda0-9c8518d0f5ec"
      },
      "outputs": [
        {
          "output_type": "stream",
          "name": "stderr",
          "text": [
            "100%|██████████| 11/11 [00:00<00:00, 14.86it/s]\n"
          ]
        },
        {
          "output_type": "execute_result",
          "data": {
            "text/plain": [
              "array([[        nan,         nan],\n",
              "       [-0.51648977,  1.30692294],\n",
              "       [-0.46315555,  1.28765299],\n",
              "       [-0.39635895,  1.26059044],\n",
              "       [-0.2695087 ,  1.21813049],\n",
              "       [-0.20345165,  1.19510851],\n",
              "       [-0.13763973,  1.16287821],\n",
              "       [-0.0685234 ,  1.1276664 ],\n",
              "       [-0.03460999,  1.09958488],\n",
              "       [-0.00142711,  1.06398158],\n",
              "       [ 0.00235764,  1.03423006],\n",
              "       [-0.00248291,  1.00262258],\n",
              "       [        nan,         nan]])"
            ]
          },
          "metadata": {},
          "execution_count": 8
        }
      ],
      "source": [
        "np.random.seed(5400)\n",
        "S0, K, vol, r, q = 100, 100, 0.2, 0.1, 0.02\n",
        "ts = np.linspace(0, 1, 13)\n",
        "\n",
        "npaths = 100000\n",
        "paths = blackscholes_mc(S=S0, vol=vol, r=r, q=q, ts=ts, npaths=npaths)\n",
        "betas_LS = np.full((len(ts), 2), np.nan, dtype=float)\n",
        "payoff = np.maximum(K-paths[-1], 0)\n",
        "for i in tqdm(range(len(ts)-2, 0, -1)):\n",
        "    discount = np.exp(-r*(ts[i+1]-ts[i]))\n",
        "    payoff = payoff*discount\n",
        "    Z = blackscholes_price(K, ts[-1]-ts[i], paths[i], 0.2, r, q, callput='put')\n",
        "    A = np.vstack((np.ones_like(Z), Z)).T\n",
        "    betas_LS[i] = np.linalg.lstsq(A, payoff, rcond=None)[0]    # regression to estimate continuation values\n",
        "    contval = betas_LS[i, 0]+betas_LS[i, 1]*Z\n",
        "    exerval = np.maximum(K-paths[i], 0)\n",
        "    # identify the paths where we should exercise\n",
        "    ind = exerval > contval\n",
        "    payoff[ind] = exerval[ind]                     # update payoff on exercised paths\n",
        "betas_LS                                           # No regression needed at first and last time steps, return NaN"
      ]
    },
    {
      "cell_type": "code",
      "source": [
        "np.random.seed(2024)\n",
        "\n",
        "# nested simulation from time t_i when stock price is S\n",
        "def nested_mc_bs(S, vol, r, q, i, ts, nnested):\n",
        "    nested_paths = np.full(nnested, S, dtype=float)\n",
        "    tot_payoff = 0\n",
        "    for j in range(i+1, len(ts)):\n",
        "        dt = ts[j] - ts[j-1]\n",
        "        dW = np.random.randn(len(nested_paths))*np.sqrt(dt)        # Brownian increment\n",
        "        nested_paths = nested_paths*np.exp((r-q)*dt)*np.exp(-0.5*vol**2*dt + vol*dW)\n",
        "        exer_vals =  exer_func(nested_paths)\n",
        "        if j < len(ts)-1:\n",
        "            Z = blackscholes_price(K, ts[-1]-ts[j], nested_paths, vol, r, q, callput='put')\n",
        "            cont_vals = betas_LS[j, 0]+betas_LS[j, 1]*Z\n",
        "            ind = exer_vals > cont_vals                            # identify the paths that need exercise\n",
        "            tot_payoff += np.sum(exer_vals[ind])*np.exp(-r*ts[j])\n",
        "            nested_paths = nested_paths[~ind]                      # remove exercised paths\n",
        "            if len(nested_paths) == 0:                             # if exercised for all paths, stop\n",
        "                break\n",
        "        else:\n",
        "            tot_payoff +=  np.sum(exer_vals)*np.exp(-r*ts[j])\n",
        "    return tot_payoff/nnested                                      # taking average of paths\n",
        "\n",
        "# Simulate independent paths and exercise the option acoording to this strategy\n",
        "V0 = nested_mc_bs(S0, vol, r, q, 0, ts, 1000000)\n",
        "\n",
        "# Upper bound by Andersen-Broadie algorithm\n",
        "npaths = 500                                                       # number of paths in the second independent run\n",
        "nnested = 1000                                                     # number of paths used in nested simulation\n",
        "paths = blackscholes_mc(S=S0, vol=vol, r=r, q=q, ts=ts, npaths=npaths)\n",
        "V = np.full(paths.shape, np.nan, dtype=float)                   # discounted value process V_i (discounted to time zero)\n",
        "EV = np.full(paths.shape, np.nan, dtype=float)                  # Conditional expectation E[V_{i+1}|F_i], or continuation value\n",
        "V[0] = V0                                                          # Initial value from lower bound simulation\n",
        "EV[0] = V0                                                         # at time 0, option value = continuation value\n",
        "for i in tqdm(range(1, len(ts)-1)):\n",
        "    exer_vals = exer_func(paths[i])\n",
        "    Z = blackscholes_price(K, ts[-1]-ts[i], paths[i], vol, r, q, callput='put')\n",
        "    cont_vals = betas_LS[i, 0]+betas_LS[i, 1]*Z\n",
        "    ind = exer_vals > cont_vals                                    # True for exercise False for continue\n",
        "    for j in np.nonzero(ind)[0]:\n",
        "        V[i, j] = exer_vals[j]*np.exp(-r*ts[i])                    # if exercised, V[i,j] = exercise value\n",
        "        EV[i,j] = nested_mc_bs(paths[i, j], vol, r, q, i, ts, nnested) # launch nested simulation to estimate E[V_{i+1}|F_i]\n",
        "    for j in np.nonzero(~ind)[0]:\n",
        "        V[i,j] = nested_mc_bs(paths[i, j], vol, r, q, i, ts, nnested)  # if continue, use nested simulation to estimate V[i, j]\n",
        "        EV[i, j] = V[i, j]                                         # E[V_{i+1}|F_i] = V_i\n",
        "V[-1] = exer_func(paths[-1])*np.exp(-r*ts[-1])                     # values at final maturity\n",
        "hedges = np.zeros(paths.shape, dtype=float)\n",
        "hedges[1:] = np.cumsum(V[1:]-EV[:-1], axis=0)                      # martinglae increment V_{i+1}-E[V_{i+1}|F_i]\n",
        "print('\\n')\n",
        "print('Upper Bound (1 & BS price) = {:.4f}'.format(np.mean(np.amax(exer_func(paths[1:])*np.exp(-r*ts[1:, np.newaxis])-hedges[1:], axis=0))))"
      ],
      "metadata": {
        "colab": {
          "base_uri": "https://localhost:8080/"
        },
        "id": "JY_lRNJ-ZP9_",
        "outputId": "9d7d0248-bfc3-4ac3-e22a-71c2927698e5"
      },
      "execution_count": null,
      "outputs": [
        {
          "output_type": "stream",
          "name": "stderr",
          "text": [
            "100%|██████████| 11/11 [00:16<00:00,  1.52s/it]"
          ]
        },
        {
          "output_type": "stream",
          "name": "stdout",
          "text": [
            "\n",
            "\n",
            "Upper Bound (1 & BS price) = 5.1645\n"
          ]
        },
        {
          "output_type": "stream",
          "name": "stderr",
          "text": [
            "\n"
          ]
        }
      ]
    },
    {
      "cell_type": "markdown",
      "source": [
        "## Section 3"
      ],
      "metadata": {
        "id": "d1U7eoxAV4sP"
      }
    },
    {
      "cell_type": "markdown",
      "metadata": {
        "id": "mzSK2q9EcP8G"
      },
      "source": [
        "(An alternative algorithm to estimate the upper bound)</b> The primal algorithm (Longstaff-Schwartz or Tsitsiklis-Van Roy) provides a function approximation (via regression) of the continuation value $C_n$ at $t_n$, hence of the value function $V_n = \\max(C_n,F_n)$ where $F_n$ is the exercise value. We can use this functional approximation of the value function to write an alternative algorithm in order to estimate the upper bound: at each time $t_n$, use the functional approximation of $V_n$, and run the nested simulation to estimate the conditional expectation $\\mathbb{E}\\left[V_{n+1}\\big|\\mathcal{F}_n\\right]$ (using the functional approximation of $V_{n+1}$). Note that this nested simulation only needs to be run for one time step.\n",
        "\n",
        "For the same Bermudan put option and same basis functions, use TVR algorithm to build the value process and then extract its martingale component using the alternative algorithm explained above to estimate the upper bound price."
      ]
    },
    {
      "cell_type": "code",
      "execution_count": null,
      "metadata": {
        "colab": {
          "base_uri": "https://localhost:8080/"
        },
        "id": "EyPwxt8OcP8H",
        "outputId": "ad3eb3c9-d907-483b-f5f2-fdab8e5de301"
      },
      "outputs": [
        {
          "output_type": "execute_result",
          "data": {
            "text/plain": [
              "array([[            nan,             nan],\n",
              "       [-5.19310302e-01,  1.33489359e+00],\n",
              "       [-4.16109641e-01,  1.30292903e+00],\n",
              "       [-3.08496442e-01,  1.26319714e+00],\n",
              "       [-2.06981527e-01,  1.22636101e+00],\n",
              "       [-1.42015666e-01,  1.20088028e+00],\n",
              "       [-7.99598280e-02,  1.16622183e+00],\n",
              "       [-2.97276411e-02,  1.13086524e+00],\n",
              "       [-1.05593731e-02,  1.09932413e+00],\n",
              "       [ 6.79765209e-03,  1.06360783e+00],\n",
              "       [ 5.24278216e-04,  1.03457529e+00],\n",
              "       [-2.48290688e-03,  1.00262258e+00],\n",
              "       [            nan,             nan]])"
            ]
          },
          "metadata": {},
          "execution_count": 10
        }
      ],
      "source": [
        "np.random.seed(5400)\n",
        "S0, K, vol, r, q = 100, 100, 0.2, 0.1, 0.02\n",
        "ts = np.linspace(0, 1, 13)\n",
        "\n",
        "npaths = 100000\n",
        "paths = blackscholes_mc(S=S0, vol=vol, r=r, q=q, ts=ts, npaths=npaths)\n",
        "betas_TVR = np.full((len(ts), 2), np.nan, dtype=float)\n",
        "V = np.maximum(K-paths[-1], 0)\n",
        "for i in range(len(ts)-2, 0, -1):\n",
        "    discount = np.exp(-r*(ts[i+1]-ts[i]))\n",
        "    Z = blackscholes_price(K, ts[-1]-ts[i], paths[i], vol, r, q, callput='put')\n",
        "    A = np.vstack((np.ones_like(Z), Z)).T\n",
        "    betas_TVR[i] = np.linalg.lstsq(A, V*discount, rcond=None)[0]      # regression to estimate continuation values\n",
        "    contval = betas_TVR[i, 0]+betas_TVR[i, 1]*Z\n",
        "    exerval = np.maximum(K-paths[i], 0)\n",
        "    V = np.maximum(exerval, contval)                      # compute values\n",
        "betas_TVR                                                 # No regression needed at first and last time steps, return NaN"
      ]
    },
    {
      "cell_type": "code",
      "source": [
        "np.random.seed(2024)\n",
        "\n",
        "# nested simulation from time t_i when stock prices are Ss\n",
        "def nested_mc_alt(Ss, vol, r, q, i, ts, nnested):\n",
        "    dt = ts[i+1] - ts[i]\n",
        "    dW = np.random.randn(len(Ss), nnested)*np.sqrt(dt)\n",
        "    nested_paths = Ss[:, np.newaxis] * np.exp((r-q)*dt) * np.exp(-0.5*vol**2*dt + vol*dW)\n",
        "    exer_vals =  exer_func(nested_paths)\n",
        "    if i < len(ts)-2:\n",
        "        Z = blackscholes_price(K, ts[-1]-ts[i+1], nested_paths, vol, r, q, callput='put')\n",
        "        cont_vals = betas_TVR[i+1, 0]+betas_TVR[i+1, 1]*Z\n",
        "        V = np.maximum(exer_vals, cont_vals) * np.exp(-r*ts[i+1])\n",
        "    else:\n",
        "        V = exer_vals * np.exp(-r*ts[i+1])\n",
        "    return np.mean(V, axis = 1)\n",
        "\n",
        "# Simulate independent paths and exercise the option acoording to this strategy\n",
        "npaths = 500                                                       # number of paths in the second independent run\n",
        "V0 = nested_mc_alt(S0*np.ones(npaths), vol, r, q, 0, ts, 10000)\n",
        "\n",
        "# Upper bound\n",
        "nnested = 10000                                                     # number of paths used in nested simulation\n",
        "paths = blackscholes_mc(S=S0, vol=vol, r=r, q=q, ts=ts, npaths=npaths)\n",
        "V = np.full(paths.shape, np.nan, dtype=float)                   # discounted value process V_i (discounted to time zero)\n",
        "EV = np.full(paths.shape, np.nan, dtype=float)                  # Conditional expectation E[V_{i+1}|F_i], or continuation value\n",
        "V[0] = V0                                                          # Initial value from lower bound simulation\n",
        "EV[0] = V0                                                         # at time 0, option value = continuation value\n",
        "for i in tqdm(range(1, len(ts)-1)):\n",
        "    exer_vals = exer_func(paths[i])                                # get the exercised value\n",
        "    Z = blackscholes_price(K, ts[-1]-ts[i], paths[i], vol, r, q, callput='put')\n",
        "    cont_vals = betas_TVR[i, 0]+betas_TVR[i, 1]*Z                  # get the continuation value from the function approximation\n",
        "    V[i] = np.maximum(exer_vals, cont_vals) * np.exp(-r*ts[i])     # use the discounted maximum of these two as the true V_i process\n",
        "    EV[i] = nested_mc_alt(paths[i], vol, r, q, i, ts, nnested)     # launch nested simulation to estimate E[V_{i+1}|F_i]\n",
        "V[-1] = exer_func(paths[-1])*np.exp(-r*ts[-1])                     # values at final maturity\n",
        "hedges = np.zeros(paths.shape, dtype=float)\n",
        "hedges[1:] = np.cumsum(V[1:]-EV[:-1], axis=0)                      # martingale increment V_{i+1}-E[V_{i+1}|F_i]\n",
        "print('\\n')\n",
        "print('Upper Bound (1 & BS price) = {:.4f}'.format(np.mean(np.amax(exer_func(paths[1:])*np.exp(-r*ts[1:, np.newaxis])-hedges[1:], axis=0))))"
      ],
      "metadata": {
        "colab": {
          "base_uri": "https://localhost:8080/"
        },
        "id": "1MLlsxrZnMjL",
        "outputId": "ab2e8527-fc72-45c3-9143-5ec09c88d940"
      },
      "execution_count": null,
      "outputs": [
        {
          "output_type": "stream",
          "name": "stderr",
          "text": [
            "100%|██████████| 11/11 [00:13<00:00,  1.25s/it]"
          ]
        },
        {
          "output_type": "stream",
          "name": "stdout",
          "text": [
            "\n",
            "\n",
            "Upper Bound (1 & BS price) = 5.1606\n"
          ]
        },
        {
          "output_type": "stream",
          "name": "stderr",
          "text": [
            "\n"
          ]
        }
      ]
    },
    {
      "cell_type": "markdown",
      "source": [
        "## Section 4"
      ],
      "metadata": {
        "id": "g0-UlReMV90S"
      }
    },
    {
      "cell_type": "markdown",
      "metadata": {
        "id": "usTu8q6dcP8H"
      },
      "source": [
        "The upper bound estimator can be used to check if the basis functions used in regression are adequate. A tight duality gap between the lower bound and upper bound is a confirmation that the linear span of the selected basis functions indeed gives a good approximation to the continuation value. We now illustrate this with the pricing of Bermudan-Asian call options.\n",
        "\n",
        "Assume that all the parameters stay the same.\n",
        "\n",
        "Reuse the exercise strategy derived from the basis functions (1, BlackScholes) by Longstaff-Schwartz with $\\bar{\\sigma}=0.1$ to estimate the lower and upper bound.  Note that the lower bound should be obtained by running new independent paths stopped according to the strategy from the Longstaff-Schwartz algorithm.\n",
        "\n",
        "As an alternative set of basis functions at time $t_n$, use\n",
        "$$1, A_{t_n}, S_{t_n}, A_{t_n}^2, S_{t_n}^2, A_{t_n}S_{t_n}.$$\n",
        "in the Longstaff-Schwartz algorithm and then give the corresponding lower bound and upper bound.\n",
        "\n",
        "Compare the numerical duality gaps obtained. Which set of basis functions does a better job at estimating the optimal exercise strategy?"
      ]
    },
    {
      "cell_type": "code",
      "execution_count": null,
      "metadata": {
        "colab": {
          "base_uri": "https://localhost:8080/"
        },
        "id": "5GcKfaBBcP8H",
        "outputId": "d53c4ea2-ece3-4b17-88fd-9e17386a3902"
      },
      "outputs": [
        {
          "output_type": "execute_result",
          "data": {
            "text/plain": [
              "array([[        nan,         nan],\n",
              "       [ 0.22682868,  1.1322062 ],\n",
              "       [-0.03140532,  1.1085478 ],\n",
              "       [-0.19686484,  1.08965054],\n",
              "       [-0.29162769,  1.07291482],\n",
              "       [-0.33703702,  1.0560594 ],\n",
              "       [-0.37144058,  1.04590732],\n",
              "       [-0.38766094,  1.04229595],\n",
              "       [-0.35716887,  1.03361323],\n",
              "       [-0.31663984,  1.02538663],\n",
              "       [-0.25546118,  1.01776191],\n",
              "       [-0.16944658,  1.00803082],\n",
              "       [        nan,         nan]])"
            ]
          },
          "metadata": {},
          "execution_count": 12
        }
      ],
      "source": [
        "np.random.seed(5400)\n",
        "\n",
        "# Longstaff-Schwartz\n",
        "S0, K, vol, r, q = 100, 100, 0.2, 0, 0\n",
        "ts = np.linspace(0, 1, 13)\n",
        "npaths = 100000\n",
        "pathsS = blackscholes_mc(S0, vol, r, q, ts=ts, npaths=npaths)                                  # stock prices\n",
        "pathsA = np.vstack((pathsS[0], np.cumsum(pathsS[1:], axis=0)/np.arange(1, 13)[:, np.newaxis])) # running averages\n",
        "vol_ = 0.1\n",
        "payoff = np.maximum(pathsA[-1]-K, 0)\n",
        "betas_AC = np.full((len(ts), 2), np.nan, dtype=float)\n",
        "for i in range(len(ts)-2, 0, -1):\n",
        "    discount = np.exp(-r*(ts[i+1]-ts[i]))\n",
        "    payoff = payoff*discount\n",
        "    Z = (i*pathsA[i]+(12-i)*pathsS[i])/12\n",
        "    callZ = blackscholes_price(K, ts[-1]-ts[i], Z, vol_, callput='call')\n",
        "    A = np.vstack((np.ones_like(Z), callZ)).T\n",
        "    betas_AC[i] = np.linalg.lstsq(A, payoff, rcond=None)[0]           # regression to estimate continuation values\n",
        "    contval = betas_AC[i, 0]+betas_AC[i, 1]*callZ\n",
        "    exerval = np.maximum(pathsA[i]-K, 0)\n",
        "    ind = exerval > contval                               # identify the paths where we should exercise\n",
        "    payoff[ind] = exerval[ind]\n",
        "betas_AC"
      ]
    },
    {
      "cell_type": "code",
      "execution_count": null,
      "metadata": {
        "colab": {
          "base_uri": "https://localhost:8080/"
        },
        "id": "kEd69VZ1cP8I",
        "outputId": "e54f7f70-d5a8-45d5-e5db-0319f59af331"
      },
      "outputs": [
        {
          "output_type": "stream",
          "name": "stderr",
          "text": [
            "100%|██████████| 11/11 [00:13<00:00,  1.21s/it]"
          ]
        },
        {
          "output_type": "stream",
          "name": "stdout",
          "text": [
            "\n",
            "\n",
            "Bermudan-Asian Lower Bound (1 & BS price) = 5.2973\n",
            "Bermudan-Asian Upper Bound (1 & BS price) = 5.3926\n",
            "Bermudan-Asian Duality Gap (1 & BS price) = 0.0953\n"
          ]
        },
        {
          "output_type": "stream",
          "name": "stderr",
          "text": [
            "\n"
          ]
        }
      ],
      "source": [
        "np.random.seed(2024)\n",
        "exer_func_call = lambda S: np.maximum(S-K, 0)\n",
        "\n",
        "# nested simulation from time t_i when stock price is S\n",
        "def nested_mc_ac(S, A, vol, vol_, r, q, i, ts, nnested):\n",
        "    nested_S = np.full(nnested, S, dtype=float)\n",
        "    nested_A = np.full(nnested, A, dtype=float)\n",
        "    tot_payoff = 0\n",
        "    for j in range(i+1, len(ts)):\n",
        "        dt = ts[j] - ts[j-1]\n",
        "        dW = np.random.randn(len(nested_S))*np.sqrt(dt)        # Brownian increment\n",
        "        nested_S = nested_S*np.exp((r-q)*dt)*np.exp(-0.5*vol**2*dt + vol*dW) # update the stock price\n",
        "        if j == 1:\n",
        "            nested_A = nested_S\n",
        "        else:\n",
        "            nested_A = (nested_A*(j-1)+nested_S)/j                # update the moving average\n",
        "        exer_vals =  exer_func_call(nested_A)\n",
        "        if j < len(ts)-1:\n",
        "            Z = (j*nested_A+(12-j)*nested_S)/12                   # get the input for black-scholes\n",
        "            callZ = blackscholes_price(K, ts[-1]-ts[j], Z, vol_, r, q, callput='call') # get the black-scholes price\n",
        "            cont_vals = betas_AC[j, 0]+betas_AC[j, 1]*callZ\n",
        "            ind = exer_vals > cont_vals                            # identify the paths that need exercise\n",
        "            tot_payoff += np.sum(exer_vals[ind])*np.exp(-r*ts[j])\n",
        "            nested_S = nested_S[~ind]                              # remove exercised paths\n",
        "            nested_A = nested_A[~ind]\n",
        "            if len(nested_S) == 0:                                 # if exercised for all paths, stop\n",
        "                break\n",
        "        else:\n",
        "            tot_payoff +=  np.sum(exer_vals)*np.exp(-r*ts[j])\n",
        "    return tot_payoff/nnested                                      # taking average of paths\n",
        "\n",
        "# Simulate independent paths and exercise the option acoording to this strategy\n",
        "V0 = nested_mc_ac(S0, S0, vol, vol_, r, q, 0, ts, 1000000)\n",
        "\n",
        "# Upper bound by Andersen-Broadie algorithm\n",
        "npaths = 500                                                       # number of paths in the second independent run\n",
        "nnested = 1000                                                     # number of paths used in nested simulation\n",
        "pathsS = blackscholes_mc(S=S0, vol=vol, r=r, q=q, ts=ts, npaths=npaths)                  # stock prices\n",
        "pathsA = np.vstack((pathsS[0], np.cumsum(pathsS[1:], axis=0)/np.arange(1, 13)[:, np.newaxis])) # running averages\n",
        "V = np.full(pathsS.shape, np.nan, dtype=float)                   # discounted value process V_i (discounted to time zero)\n",
        "EV = np.full(pathsS.shape, np.nan, dtype=float)                  # Conditional expectation E[V_{i+1}|F_i], or continuation value\n",
        "V[0] = V0                                                          # Initial value from lower bound simulation\n",
        "EV[0] = V0                                                         # at time 0, option value = continuation value\n",
        "for i in tqdm(range(1, len(ts)-1)):\n",
        "    exer_vals = exer_func_call(pathsA[i])\n",
        "    Z = (i*pathsA[i]+(12-i)*pathsS[i])/12\n",
        "    callZ = blackscholes_price(K, ts[-1]-ts[i], Z, vol_, callput='call')\n",
        "    cont_vals = betas_AC[i, 0]+betas_AC[i, 1]*callZ\n",
        "    ind = exer_vals > cont_vals                                    # True for exercise False for continue\n",
        "    for j in np.nonzero(ind)[0]:\n",
        "        V[i, j] = exer_vals[j]*np.exp(-r*ts[i])                    # if exercised, V[i,j] = exercise value\n",
        "        EV[i,j] = nested_mc_ac(pathsS[i, j], pathsA[i, j], vol, vol_, r, q, i, ts, nnested) # launch nested simulation to estimate E[V_{i+1}|F_i]\n",
        "    for j in np.nonzero(~ind)[0]:\n",
        "        V[i,j] = nested_mc_ac(pathsS[i, j], pathsA[i, j], vol, vol_, r, q, i, ts, nnested)  # if continue, use nested simulation to estimate V[i, j]\n",
        "        EV[i, j] = V[i, j]                                         # E[V_{i+1}|F_i] = V_i\n",
        "V[-1] = exer_func_call(pathsA[-1])*np.exp(-r*ts[-1])                     # values at final maturity\n",
        "hedges = np.zeros(pathsS.shape, dtype=float)\n",
        "hedges[1:] = np.cumsum(V[1:]-EV[:-1], axis=0)                      # martinglae increment V_{i+1}-E[V_{i+1}|F_i]\n",
        "print('\\n')\n",
        "lb_ac = V0\n",
        "ub_ac = np.mean(np.amax(exer_func_call(pathsA[1:])*np.exp(-r*ts[1:, np.newaxis])-hedges[1:], axis=0))\n",
        "dg_ac = ub_ac - lb_ac\n",
        "print('Bermudan-Asian Lower Bound (1 & BS price) = {:.4f}'.format(lb_ac))\n",
        "print('Bermudan-Asian Upper Bound (1 & BS price) = {:.4f}'.format(ub_ac))\n",
        "print('Bermudan-Asian Duality Gap (1 & BS price) = {:.4f}'.format(dg_ac))"
      ]
    },
    {
      "cell_type": "code",
      "execution_count": null,
      "metadata": {
        "colab": {
          "base_uri": "https://localhost:8080/"
        },
        "id": "N2OkffRccP8I",
        "outputId": "56308350-e749-4239-d51b-2b0851c9c064"
      },
      "outputs": [
        {
          "output_type": "execute_result",
          "data": {
            "text/plain": [
              "array([[            nan,             nan,             nan,\n",
              "                    nan,             nan,             nan],\n",
              "       [ 1.61925838e+02, -1.86139262e+00, -1.86139262e+00,\n",
              "         7.15628425e-03,  7.15628425e-03,  7.15628325e-03],\n",
              "       [ 1.58931518e+02, -1.59627677e+00, -2.06359138e+00,\n",
              "         3.95971743e-03,  7.73528817e-03,  9.40175043e-03],\n",
              "       [ 1.54298985e+02, -1.92744402e+00, -1.63477253e+00,\n",
              "         9.61291272e-03,  8.98367257e-03,  1.94976964e-03],\n",
              "       [ 1.49135766e+02, -2.21169150e+00, -1.24044483e+00,\n",
              "         1.19798210e-02,  7.43938891e-03,  5.15450549e-04],\n",
              "       [ 1.43654891e+02, -2.43749351e+00, -8.95252219e-01,\n",
              "         1.38043845e-02,  5.98955541e-03, -5.26689183e-04],\n",
              "       [ 1.38102584e+02, -2.57257430e+00, -6.40717892e-01,\n",
              "         1.53782478e-02,  5.24422561e-03, -2.01457736e-03],\n",
              "       [ 1.32160779e+02, -2.57137279e+00, -5.16354967e-01,\n",
              "         1.56094704e-02,  4.53082932e-03, -2.21150519e-03],\n",
              "       [ 1.26429602e+02, -2.56913475e+00, -3.95953905e-01,\n",
              "         1.53129665e-02,  3.33862733e-03, -1.38667054e-03],\n",
              "       [ 1.22207831e+02, -2.59117548e+00, -2.82768838e-01,\n",
              "         1.50486142e-02,  2.10195379e-03, -3.81787871e-04],\n",
              "       [ 1.17070639e+02, -2.56444860e+00, -2.01992942e-01,\n",
              "         1.44785457e-02,  9.85376041e-04,  7.43056292e-04],\n",
              "       [ 1.10656147e+02, -2.49252696e+00, -1.43989083e-01,\n",
              "         1.36046058e-02, -8.07451892e-05,  2.03489423e-03],\n",
              "       [            nan,             nan,             nan,\n",
              "                    nan,             nan,             nan]])"
            ]
          },
          "metadata": {},
          "execution_count": 14
        }
      ],
      "source": [
        "np.random.seed(5400)\n",
        "\n",
        "# Longstaff-Schwartz\n",
        "S0, K, vol, r, q = 100, 100, 0.2, 0, 0\n",
        "ts = np.linspace(0, 1, 13)\n",
        "npaths = 100000\n",
        "pathsS = blackscholes_mc(S0, vol, r, q, ts=ts, npaths=npaths)                                  # stock prices\n",
        "pathsA = np.vstack((pathsS[0], np.cumsum(pathsS[1:], axis=0)/np.arange(1, 13)[:, np.newaxis])) # running averages\n",
        "vol_ = 0.1\n",
        "payoff = np.maximum(pathsA[-1]-K, 0)\n",
        "betas_PR = np.full((len(ts), 6), np.nan, dtype=float)\n",
        "for i in range(len(ts)-2, 0, -1):\n",
        "    discount = np.exp(-r*(ts[i+1]-ts[i]))\n",
        "    payoff = payoff*discount\n",
        "    A = np.vstack((np.ones_like(pathsS[i]), pathsA[i], pathsS[i], pathsA[i]**2, pathsS[i]**2, pathsA[i]*pathsS[i])).T\n",
        "    betas_PR[i] = np.linalg.lstsq(A, payoff, rcond=None)[0]           # regression to estimate continuation values\n",
        "    contval = A @ betas_PR[i]\n",
        "    exerval = np.maximum(pathsA[i]-K, 0)\n",
        "    ind = exerval > contval                               # identify the paths where we should exercise\n",
        "    payoff[ind] = exerval[ind]\n",
        "betas_PR"
      ]
    },
    {
      "cell_type": "code",
      "source": [
        "np.random.seed(2024)\n",
        "exer_func_call = lambda S: np.maximum(S-K, 0)\n",
        "\n",
        "# nested simulation from time t_i when stock price is S\n",
        "def nested_mc_pr(S, A, vol, r, q, i, ts, nnested):\n",
        "    nested_S = np.full(nnested, S, dtype=float)\n",
        "    nested_A = np.full(nnested, A, dtype=float)\n",
        "    tot_payoff = 0\n",
        "    for j in range(i+1, len(ts)):\n",
        "        dt = ts[j] - ts[j-1]\n",
        "        dW = np.random.randn(len(nested_S))*np.sqrt(dt)        # Brownian increment\n",
        "        nested_S = nested_S*np.exp((r-q)*dt)*np.exp(-0.5*vol**2*dt + vol*dW) # update the stock price\n",
        "        if j == 1:\n",
        "            nested_A = nested_S\n",
        "        else:\n",
        "            nested_A = (nested_A*(j-1)+nested_S)/j                # update the moving average\n",
        "        exer_vals =  exer_func_call(nested_A)\n",
        "        if j < len(ts)-1:\n",
        "            A = np.vstack((np.ones_like(nested_A), nested_A, nested_S, nested_A**2, nested_S**2, nested_A*nested_S)).T\n",
        "            cont_vals = A @ betas_PR[i]\n",
        "            ind = exer_vals > cont_vals                            # identify the paths that need exercise\n",
        "            tot_payoff += np.sum(exer_vals[ind])*np.exp(-r*ts[j])\n",
        "            nested_S = nested_S[~ind]                              # remove exercised paths\n",
        "            nested_A = nested_A[~ind]\n",
        "            if len(nested_S) == 0:                                 # if exercised for all paths, stop\n",
        "                break\n",
        "        else:\n",
        "            tot_payoff +=  np.sum(exer_vals)*np.exp(-r*ts[j])\n",
        "    return tot_payoff/nnested                                      # taking average of paths\n",
        "\n",
        "# Simulate independent paths and exercise the option acoording to this strategy\n",
        "V0 = nested_mc_pr(S0, S0, vol, r, q, 0, ts, 1000000)\n",
        "\n",
        "# Upper bound by Andersen-Broadie algorithm\n",
        "npaths = 500                                                       # number of paths in the second independent run\n",
        "nnested = 1000                                                     # number of paths used in nested simulation\n",
        "pathsS = blackscholes_mc(S=S0, vol=vol, r=r, q=q, ts=ts, npaths=npaths)                  # stock prices\n",
        "pathsA = np.vstack((pathsS[0], np.cumsum(pathsS[1:], axis=0)/np.arange(1, 13)[:, np.newaxis])) # running averages\n",
        "V = np.full(pathsS.shape, np.nan, dtype=float)                   # discounted value process V_i (discounted to time zero)\n",
        "EV = np.full(pathsS.shape, np.nan, dtype=float)                  # Conditional expectation E[V_{i+1}|F_i], or continuation value\n",
        "V[0] = V0                                                          # Initial value from lower bound simulation\n",
        "EV[0] = V0                                                         # at time 0, option value = continuation value\n",
        "for i in tqdm(range(1, len(ts)-1)):\n",
        "    exer_vals = exer_func_call(pathsA[i])\n",
        "    A = np.vstack((np.ones_like(pathsS[i]), pathsA[i], pathsS[i], pathsA[i]**2, pathsS[i]**2, pathsA[i]*pathsS[i])).T\n",
        "    cont_vals = A @ betas_PR[i]\n",
        "    ind = exer_vals > cont_vals                                    # True for exercise False for continue\n",
        "    for j in np.nonzero(ind)[0]:\n",
        "        V[i, j] = exer_vals[j]*np.exp(-r*ts[i])                    # if exercised, V[i,j] = exercise value\n",
        "        EV[i,j] = nested_mc_pr(pathsS[i, j], pathsA[i, j], vol, r, q, i, ts, nnested) # launch nested simulation to estimate E[V_{i+1}|F_i]\n",
        "    for j in np.nonzero(~ind)[0]:\n",
        "        V[i,j] = nested_mc_pr(pathsS[i, j], pathsA[i, j], vol, r, q, i, ts, nnested)  # if continue, use nested simulation to estimate V[i, j]\n",
        "        EV[i, j] = V[i, j]                                         # E[V_{i+1}|F_i] = V_i\n",
        "V[-1] = exer_func_call(pathsA[-1])*np.exp(-r*ts[-1])                     # values at final maturity\n",
        "hedges = np.zeros(pathsS.shape, dtype=float)\n",
        "hedges[1:] = np.cumsum(V[1:]-EV[:-1], axis=0)                      # martinglae increment V_{i+1}-E[V_{i+1}|F_i]\n",
        "print('\\n')\n",
        "lb_pr = V0\n",
        "ub_pr = np.mean(np.amax(exer_func_call(pathsA[1:])*np.exp(-r*ts[1:, np.newaxis])-hedges[1:], axis=0))\n",
        "dg_pr = ub_pr - lb_pr\n",
        "print('Bermudan-Asian Lower Bound (poly-regr) = {:.4f}'.format(lb_pr))\n",
        "print('Bermudan-Asian Upper Bound (poly-regr) = {:.4f}'.format(ub_pr))\n",
        "print('Bermudan-Asian Duality Gap (poly-regr) = {:.4f}'.format(dg_pr))"
      ],
      "metadata": {
        "colab": {
          "base_uri": "https://localhost:8080/"
        },
        "id": "g_q-k8oo5Vuy",
        "outputId": "ee30f3d3-dd09-4eb8-941e-a1b9bb8f7877"
      },
      "execution_count": null,
      "outputs": [
        {
          "output_type": "stream",
          "name": "stderr",
          "text": [
            "100%|██████████| 11/11 [00:05<00:00,  2.13it/s]"
          ]
        },
        {
          "output_type": "stream",
          "name": "stdout",
          "text": [
            "\n",
            "\n",
            "Bermudan-Asian Lower Bound (poly-regr) = 4.8855\n",
            "Bermudan-Asian Upper Bound (poly-regr) = 5.3256\n",
            "Bermudan-Asian Duality Gap (poly-regr) = 0.4402\n"
          ]
        },
        {
          "output_type": "stream",
          "name": "stderr",
          "text": [
            "\n"
          ]
        }
      ]
    },
    {
      "cell_type": "markdown",
      "source": [
        "From our simulation, the Duality Gap from constant 1 and Black-Scholes price is far less than the Duality gap from polynomial regression. Thus, the pair of constant 1 and Black-Scholes price as basis functions is more effective at estimating the optimal strategy."
      ],
      "metadata": {
        "id": "L16y4aN7-1lm"
      }
    }
  ],
  "metadata": {
    "anaconda-cloud": {},
    "kernelspec": {
      "display_name": "Python 3",
      "language": "python",
      "name": "python3"
    },
    "language_info": {
      "codemirror_mode": {
        "name": "ipython",
        "version": 3
      },
      "file_extension": ".py",
      "mimetype": "text/x-python",
      "name": "python",
      "nbconvert_exporter": "python",
      "pygments_lexer": "ipython3",
      "version": "3.7.3"
    },
    "colab": {
      "provenance": [],
      "collapsed_sections": [
        "IlIhspgWKP6h",
        "tUDVLN78KqCt",
        "d1U7eoxAV4sP",
        "g0-UlReMV90S"
      ]
    }
  },
  "nbformat": 4,
  "nbformat_minor": 0
}